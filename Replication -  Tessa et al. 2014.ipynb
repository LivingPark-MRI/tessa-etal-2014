{
 "cells": [
  {
   "cell_type": "markdown",
   "metadata": {},
   "source": [
    "* **Original paper:** [*Tessa C, Lucetti C, Giannelli M, Diciotti S, Poletti M, Danti S, Baldacci F, Vignali C, Bonuccelli U, Mascalchi M, Toschi N. Progression of brain atrophy in the early stages of Parkinson's disease: a longitudinal tensor-based morphometry study in de novo patients without cognitive impairment. Hum Brain Mapp. 2014 Aug;35(8):3932-44. doi: 10.1002/hbm.22449. Epub 2014 Jan 22. PMID: 24453162; PMCID: PMC6868950.*](https://onlinelibrary.wiley.com/doi/abs/10.1002/hbm.22449)"
   ]
  },
  {
   "cell_type": "markdown",
   "metadata": {},
   "source": [
    "# Introduction"
   ]
  },
  {
   "cell_type": "markdown",
   "metadata": {},
   "source": [
    "* **Cohort quote from the paper:** \"*Overall, 22 patients (4 women and 18 men, mean age 61.5 ± 8.8) and 17 control subjects (8 women and 9 men, mean age 59.1 ± 8.5 years) completed the study and underwent a second MRI examination. The mean (± standard deviation) follow-up time for patients and controls was 2.8 ± 0.6 (range 2–4) years and 3.9 ± 2.2 (range 2–7) years, respectively. Differences for age between PD patients and control subjects were not significant (P = 0.48, MannWhitney U-test)*\"\n",
    "\n",
    "\n",
    "* Demographics for the PD patients (table taken from the paper):\n",
    "<img src=\"./images/original-cohort.png\" alt= “” width=\"30%\" height=\"30%\">\n",
    "\n",
    "\n",
    "* At the baseline evaluation \"*No difference in local volume between patients and control subjects was revealed*\".\n",
    "\n",
    "\n",
    "* A (very) brief summary of the main results of the logtitudinal evaluation is:\n",
    "\n",
    "\n",
    "  * Control subjects: Baseline versus follow-up\n",
    "    * Control subjects experienced atrophy in several white matter and grey matter regions (Fig. 1a), and cerebrospinal fluid enlargement. There were atrophy clusters involved mainly in white matter, and were more widespread in the frontal lobe.\n",
    "    \n",
    "    \n",
    "  * PD patients: Baseline versus follow-up\n",
    "    * PD patients showed clusters of reduced white and grey matter volume. These were more evident in the white matter, specially the frontal lobe (Fig. 1b), and showed cerebrospinal fluid enlargement. Grey matter involvement was more widespread than in the control subjects.\n",
    "    <img src=\"./images/original-fig1.png\" alt= “” width=\"50%\" height=\"50%\">\n",
    "    \n",
    "  * PD patients versus control subjects\n",
    "    * \"*PD patients developed bilateral clusters of increased atrophy*\" (Fig. 2).\n",
    "    <img src=\"./images/original-fig2.png\" alt= “” width=\"50%\" height=\"50%\">\n",
    "    \n",
    "    \n",
    "  * Correlation analyses\n",
    "    * \"*In PD patients, no significant correlation between warprates and motor or neuropsychological test scores or their average changes per year between baseline and follow-up were identified*\"."
   ]
  },
  {
   "cell_type": "markdown",
   "metadata": {},
   "source": [
    "# Setup"
   ]
  },
  {
   "cell_type": "code",
   "execution_count": 1,
   "metadata": {},
   "outputs": [
    {
     "name": "stdout",
     "output_type": "stream",
     "text": [
      "This notebook was run on 2023-03-17 21:38:59 UTC +0000\n",
      "['COR', 'Coronal', 'Cal Head 24', 'Transverse', 'tra_T1_MPRAGE', 'TRA']\n",
      "['AX', 'Ax', 'axial', 'Phantom', 'T2']\n",
      "{'Screening': 'SC', 'Baseline': 'BL', 'Month 6': 'V02', 'Month 12': 'V04', 'Month 24': 'V06', 'Month 36': 'V08', 'Month 48': 'V10', 'Symptomatic Therapy': 'ST', 'Unscheduled Visit 01': 'U01', 'Unscheduled Visit 02': 'U02', 'Premature Withdrawal': 'PW'}\n",
      "Saved in MRI_info.csv\n"
     ]
    }
   ],
   "source": [
    "# mporting the modules we need\n",
    "\n",
    "import numpy as np\n",
    "import pandas as pd\n",
    "import os\n",
    "\n",
    "import livingpark_utils\n",
    "from livingpark_utils import download\n",
    "from livingpark_utils import clinical\n",
    "from livingpark_utils.scripts import run\n",
    "from livingpark_utils.scripts import mri_metadata"
   ]
  },
  {
   "cell_type": "code",
   "execution_count": 2,
   "metadata": {},
   "outputs": [
    {
     "name": "stdout",
     "output_type": "stream",
     "text": [
      "This notebook was run on 2023-03-17 21:38:59 UTC +0000\n"
     ]
    },
    {
     "data": {
      "text/html": [
       "<script>\n",
       "    code_show = true;\n",
       "    function code_toggle() {\n",
       "        if (code_show) {\n",
       "            $(\"div.input\").hide();\n",
       "        } else {\n",
       "            $(\"div.input\").show();\n",
       "        }\n",
       "        code_show = !code_show\n",
       "    }\n",
       "    $(document).ready(code_toggle);\n",
       "</script>\n",
       "<form action=\"javascript:code_toggle()\">\n",
       "    <input type=\"submit\" value=\"Click here to toggle on/off the Python code.\">\n",
       "</form>\n"
      ],
      "text/plain": [
       "<IPython.core.display.HTML object>"
      ]
     },
     "execution_count": 2,
     "metadata": {},
     "output_type": "execute_result"
    }
   ],
   "source": [
    "# Notebook data initialization\n",
    "inputs_dir = os.path.join(os.getcwd(), \"inputs/study_files\")\n",
    "outputs_dir = os.path.join(os.getcwd(), \"outputs\")\n",
    "data_dir = os.path.join(os.getcwd(), \"data\")\n",
    "\n",
    "utils = livingpark_utils.LivingParkUtils()\n",
    "downloader = download.ppmi.Downloader(utils.study_files_dir)\n",
    "#random_seed = 1\n",
    "utils.notebook_init()"
   ]
  },
  {
   "cell_type": "markdown",
   "metadata": {},
   "source": [
    "# PPMI Cohort Data Acquisition"
   ]
  },
  {
   "cell_type": "code",
   "execution_count": 3,
   "metadata": {},
   "outputs": [
    {
     "name": "stdout",
     "output_type": "stream",
     "text": [
      "Download skipped: No missing files!\n"
     ]
    }
   ],
   "source": [
    "# PPMI study data files to reconstruct cohort and demographics table\n",
    "\n",
    "required_files = [\n",
    "    \"Demographics.csv\",                                   # Sex\n",
    "    \"Age_at_visit.csv\",                                   # Age\n",
    "    \"Montreal_Cognitive_Assessment__MoCA_.csv\",           # MMSE\n",
    "    \"PD_Diagnosis_History.csv\",                           # Disease duration\n",
    "    \"Cognitive_Categorization.csv\",                       # MCI diagnosis\n",
    "    \"Participant_Status.csv\",                             # Parkinson's vs healthy diagnosis\n",
    "    \"Primary_Clinical_Diagnosis.csv\",                     # Subjects with no PD nor other neurological disorder\n",
    "    \"Geriatric_Depression_Scale__Short_Version_.csv\",     # GDSS - depression screening\n",
    "    \"Family_History.csv\",                                 # PD familial history\n",
    "    \"General_Physical_Exam.csv\",                          # Cardio-vascular dysfunction (exclusion)\n",
    "    \"Magnetic_Resonance_Imaging__MRI_.csv\",               # Baseline & ~24 month follow-up T1w images\n",
    "    #\"MDS-UPDRS_Part_I.csv\",                              # UPDRS (unsure which of all the files I need)\n",
    "    #\"MDS_UPDRS_Part_II__Patient_Questionnaire.csv\",      # \"\"\n",
    "    \"MDS-UPDRS_Part_IV__Motor_Complications.csv\",         # \"\"\n",
    "    #\"MDS-UPDRS_Part_I_Patient_Questionnaire.csv\",        # \"\"\n",
    "    \"MDS-UPDRS_Part_III.csv\",                             # UPDRS III, and Hoehn and Yahr scores\n",
    "    \"Medical_Conditions_Log.csv\"                          # Depression diagnosis (and other neuro/psych conditions)\n",
    "]\n",
    "\n",
    "utils.get_study_files(required_files, default=downloader)"
   ]
  },
  {
   "cell_type": "code",
   "execution_count": 4,
   "metadata": {},
   "outputs": [
    {
     "name": "stdout",
     "output_type": "stream",
     "text": [
      "0.0\n"
     ]
    }
   ],
   "source": [
    "# Reading in all the demographic info files for the relevant variables\n",
    "\n",
    "# Age\n",
    "age_df = pd.read_csv(os.path.join(inputs_dir, \"Age_at_visit.csv\"), usecols=[\"PATNO\", \"EVENT_ID\", \"AGE_AT_VISIT\"])\n",
    "\n",
    "\n",
    "# Sex\n",
    "sex_df = pd.read_csv(os.path.join(inputs_dir,\"Demographics.csv\"), usecols=[\"PATNO\", \"SEX\"])\n",
    "\n",
    "\n",
    "# Diagnosis\n",
    "diagnosis_df = pd.read_csv(os.path.join(inputs_dir, \"Primary_Clinical_Diagnosis.csv\"), usecols=[\"PATNO\", \"EVENT_ID\", \"PRIMDIAG\"])\n",
    "\n",
    "\n",
    "# Disease duration\n",
    "disease_duration_df = pd.read_csv(os.path.join(inputs_dir,\"PD_Diagnosis_History.csv\"), usecols=[\"PATNO\", \"EVENT_ID\", \"PDDXDT\"])\n",
    "\n",
    "\n",
    "# Cognitive categorization (MCI/Dementia/Healthy)\n",
    "cog_cat_df = pd.read_csv(os.path.join(inputs_dir, \"Cognitive_Categorization.csv\"), usecols=[\"PATNO\", \"EVENT_ID\", \"COGSTATE\"])\n",
    "\n",
    "\n",
    "# UPDRS3 and HY\n",
    "updrs3_df = pd.read_csv(os.path.join(inputs_dir,\"MDS-UPDRS_Part_III.csv\"), usecols=[\"PATNO\", \"EVENT_ID\", \"NP3TOT\", \"NHY\"])\n",
    "\n",
    "\n",
    "# Medical condition (Depression)\n",
    "med_cond_df = pd.read_csv(os.path.join(inputs_dir, \"Medical_Conditions_Log.csv\"), usecols=[\"PATNO\", \"EVENT_ID\", \"MHCAT\"]).groupby(['PATNO', 'EVENT_ID'])[['MHCAT']].aggregate(lambda x: tuple(set(x))) # aggregate all codes in a tuple\n",
    "dep = []\n",
    "for x in med_cond_df['MHCAT']:\n",
    "    if 115 in x: #115 = depression\n",
    "        dep.append(1)\n",
    "    else:\n",
    "        dep.append(0)     \n",
    "new_med = med_cond_df\n",
    "new_med['Depression'] = dep\n",
    "new_med = new_med.reset_index()\n",
    "new_med = new_med.drop([\"EVENT_ID\", \"MHCAT\"], axis=1) \n",
    "\n",
    "\n",
    "# MoCA --> MMSE\n",
    "moca_df = pd.read_csv(os.path.join(inputs_dir,\"Montreal_Cognitive_Assessment__MoCA_.csv\"), usecols=[\"PATNO\", \"EVENT_ID\", \"MCATOT\"])\n",
    "moca_df[\"MMSETOT\"] = moca_df[\"MCATOT\"].apply(clinical.moca2mmse)\n",
    "\n",
    "\n",
    "# Parkinson's (COHORT=1) vs healthy control (COHORT=2)\n",
    "part_stat_df = pd.read_csv(os.path.join(inputs_dir, \"Participant_Status.csv\"), usecols=[\"PATNO\", \"COHORT\"])\n",
    "\n",
    "\n",
    "# GDSS\n",
    "gdsshort_df = pd.read_csv(os.path.join(inputs_dir,\"Geriatric_Depression_Scale__Short_Version_.csv\"))\n",
    "gdsshort_df = gdsshort_df.drop([\"REC_ID\",\"PAG_NAME\", \"INFODT\",\"ORIG_ENTRY\",\"LAST_UPDATE\"], axis=1)\n",
    "gds = gdsshort_df.iloc[:, 2:] # Calculate GDS score for each patient\n",
    "gds = gds.agg(['sum'], axis=\"columns\").rename(columns={\"sum\": \"GDSTOT\"})\n",
    "gdsshort_df = pd.concat([gdsshort_df[['PATNO', 'EVENT_ID']], gds], axis=1) #Add gds score to df\n",
    "\n",
    "\n",
    "# Physical Examination (For now just need PESEQ=6 for cardiovascular...Might need neurological too?)\n",
    "physical_df = pd.read_csv(os.path.join(inputs_dir, \"General_Physical_Exam.csv\"), usecols=[\"PATNO\", \"PESEQ\", \"ABNORM\"])\n",
    "physical_df_mod = physical_df.loc[(physical_df['PESEQ'] == 6)]\n",
    "physical_df_mod = physical_df_mod.drop('PESEQ', axis=1)\n",
    "\n",
    "# MRI availability\n",
    "run.mri_metadata()\n",
    "mri_df = pd.read_csv(os.path.join(inputs_dir,\"MRI_info.csv\"))\n",
    "mri_df[\"EVENT_ID\"] = mri_df[\"Visit code\"]\n",
    "mri_df[\"PATNO\"] = mri_df[\"Subject ID\"]\n",
    "mri_df[\"Sex\"] = mri_df[\"Sex\"].map({\"F\": 0, \"M\": 1})\n",
    "mri_df = mri_df.drop([\"Subject ID\", \"Visit code\", \"Visit\", \"Age\", \"Sex\", \"Description\", \"Imaging Protocol\"], axis=1)\n",
    "\n",
    "\n",
    "# Family PD history - Probably not needed since PPMI healthy controls were checked for PD family history\n",
    "#fam_df = pd.read_csv(os.path.join(inputs_dir, \"Family_History.csv\"), usecols=[\"PATNO\", \"EVENT_ID\", \"ANYFAMPD\"])"
   ]
  },
  {
   "cell_type": "markdown",
   "metadata": {},
   "source": [
    "# Data aggregation"
   ]
  },
  {
   "cell_type": "code",
   "execution_count": 5,
   "metadata": {},
   "outputs": [],
   "source": [
    "# Merging all of the relevant study file variables into one big dataframe\n",
    "\n",
    "result = pd.merge(age_df, sex_df, on=[\"PATNO\"], how=\"outer\")\n",
    "result = pd.merge(result, part_stat_df, on=[\"PATNO\"], how=\"outer\")\n",
    "result = pd.merge(result, diagnosis_df, on=[\"PATNO\", \"EVENT_ID\"], how=\"outer\")\n",
    "result = pd.merge(result, disease_duration_df, on=[\"PATNO\", \"EVENT_ID\"], how=\"outer\")\n",
    "result = pd.merge(result, cog_cat_df, on=[\"PATNO\", \"EVENT_ID\"], how=\"outer\")\n",
    "result = pd.merge(result, updrs3_df, on=[\"PATNO\", \"EVENT_ID\"], how=\"outer\")\n",
    "result = pd.merge(result, moca_df, on=[\"PATNO\", \"EVENT_ID\"], how=\"outer\")\n",
    "result = pd.merge(result, gdsshort_df, on=[\"PATNO\", \"EVENT_ID\"], how=\"outer\")\n",
    "result = pd.merge(result, physical_df_mod, on=[\"PATNO\"], how=\"outer\")\n",
    "result = pd.merge(result, new_med, on=[\"PATNO\"], how=\"outer\") \n",
    "result = pd.merge(result, mri_df, on=[\"PATNO\", \"EVENT_ID\"], how=\"outer\")"
   ]
  },
  {
   "cell_type": "markdown",
   "metadata": {},
   "source": [
    "# Cohort Matching"
   ]
  },
  {
   "cell_type": "markdown",
   "metadata": {},
   "source": [
    "We now attempt to reconstruct a cohort which is as similar to the original study as possible using the PPMI data.\n",
    "\n",
    "* ### Inclusion/Exclusion criteria I will use to replicate this study:\n",
    "\n",
    "\n",
    "  * Baseline and ~24 month follow-up T1-weighted MRIs available and usable for TBM. (MRI_info.csv: **Study Date**)\n",
    "  \n",
    "  \n",
    "  * Disease duration ~1 year at baseline (PD_Diagnosis_History.csv: **PDDXDT**).\n",
    "  \n",
    "  \n",
    "  * No MCI or dementia (Cognitive_Categorization.csv: **COGSTATE** != 3 for dementia, 2 for MCI)\n",
    "  \n",
    "  \n",
    "  * No depression (Medical_Conditions_Log.csv: **MHCAT** != 115 --> **Depression** != 1 in aggregation )\n",
    "  \n",
    "  \n",
    "  * No cardio-vascular autonomic dysfunction (General_Physical_Exam.csv: **PESAQ** == 6 && **ABNORM** == 0 --> **ABNORM** != 1 in aggregation)\n",
    "  \n",
    "  \n",
    "  * Subjects: 4 PD women and 18 PD men (Participant_Status.csv: **COHORT**==1 PD)\n",
    "  * Controls: 8 HC women and 9 HC men (Participant_Status.csv: **COHORT**==2 HC)\n",
    "  * Demographics.csv: **SEX**==1 Male, **SEX**==0 Female\n",
    "  \n",
    "  \n",
    "  * Controls: a normal neurological examination (Unsure: Primary_Clinical_Diagnosis.csv: **PRIMDIAG==17**, Or Neurological_exam.csv battery, or just Participant_Status.csv: **COHORT**==2?), and no relatives with PD (*See the notes below on how this differs from the original study*).\n",
    "  \n",
    "* ### Replication Limitations, and other points to consider\n",
    "\n",
    "\n",
    "  * For the control subjects, the original study states that they must have \"No history of familial or personal neurological diseases\". I can't find this detailed familial data in PPMI, the existing familial data is only with regard to PD.\n",
    "  \n",
    "  \n",
    "  * We are using the PPMI's cognitive state diagnosis for MCI instead of the original paper's battery of standardized neuropsychological tests.\n",
    "  \n",
    "  \n",
    "  * While it's not an inclusion/exclusion criterion, the paper states that  \"At follow-up examination, all patients were receiving L-dopa\". It makes no mention of L-dopa at baseline."
   ]
  },
  {
   "cell_type": "code",
   "execution_count": 6,
   "metadata": {},
   "outputs": [],
   "source": [
    "#PD Subjects query\n",
    "\n",
    "result = result.drop('PATNO', axis=1) #Drop for display/privacy\n",
    "cohort = result.loc[(result['ABNORM'] == 0.0) &\n",
    "           (result['COGSTATE'] != 2.0) & \n",
    "           (result['COGSTATE'] != 3.0) &\n",
    "           (result['Depression'] != 1.0) &\n",
    "           (result['Study Date'].notnull()) &\n",
    "           (result['COHORT'] == 1.0)\n",
    "            # lack disease duration, mri follow-up availability, sex in query\n",
    "          ]"
   ]
  },
  {
   "cell_type": "code",
   "execution_count": 7,
   "metadata": {},
   "outputs": [],
   "source": [
    "#Control Group query"
   ]
  },
  {
   "cell_type": "markdown",
   "metadata": {},
   "source": [
    "# Cohort Summary Statistics"
   ]
  },
  {
   "cell_type": "code",
   "execution_count": 8,
   "metadata": {},
   "outputs": [],
   "source": [
    "# PD Subjects Cohort"
   ]
  },
  {
   "cell_type": "code",
   "execution_count": 9,
   "metadata": {},
   "outputs": [],
   "source": [
    "# Control Group Cohort"
   ]
  }
 ],
 "metadata": {
  "kernelspec": {
   "display_name": "test2",
   "language": "python",
   "name": "test2"
  },
  "language_info": {
   "codemirror_mode": {
    "name": "ipython",
    "version": 3
   },
   "file_extension": ".py",
   "mimetype": "text/x-python",
   "name": "python",
   "nbconvert_exporter": "python",
   "pygments_lexer": "ipython3",
   "version": "3.10.10"
  }
 },
 "nbformat": 4,
 "nbformat_minor": 4
}
